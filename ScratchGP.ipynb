{
 "cells": [
  {
   "cell_type": "markdown",
   "metadata": {},
   "source": [
    "# A simple GP \n",
    "\n",
    "Here we will put together a simple GP using the equations given in the lectures.  I have given all the equations you will need in the notes below.  You should note that this implementation of a GP is slow, $\\mathcal{O}(n^{3})$.  For this reason we will avoid exploring the parameter space in an extensive and systematic way.  You should however, play around. Do your own exploration of the impact of the hyperparameters passed to the kernel.\n",
    "\n",
    "Having said that this implementation is slow, you will see that it is substantially faster than the work we did in the kernal sandbox notebook.\n",
    "\n",
    "Let's import the libraries we need:"
   ]
  },
  {
   "cell_type": "code",
   "execution_count": 39,
   "metadata": {},
   "outputs": [],
   "source": [
    "import numpy as np\n",
    "import matplotlib.pyplot as plt"
   ]
  },
  {
   "cell_type": "markdown",
   "metadata": {},
   "source": [
    "And now implement your kernel function in the same way as in the kernel sandbox notebook.  For now start with a squared exponential kernel function but feel free to change this as you become more familiar."
   ]
  },
  {
   "cell_type": "markdown",
   "metadata": {},
   "source": [
    "$k(x_i, x_j) = \\sigma^2 \\exp \\left(\\frac{-1}{2 l^2} (x_i - x_j)^2 \\right)$"
   ]
  },
  {
   "cell_type": "code",
   "execution_count": 40,
   "metadata": {},
   "outputs": [],
   "source": [
    "#Hidden\n",
    "def kernel(x, y, p):\n",
    "    # p[0] = sigma\n",
    "    # p[1] = length scale\n",
    "    return p[0]**2 * np.exp(-0.5 * np.subtract.outer(x, y)**2 / p[1]**2)\n",
    "    "
   ]
  },
  {
   "cell_type": "markdown",
   "metadata": {},
   "source": [
    "If we set the mean function to be zero ($m({\\bf t}) = 0$) then we now have enough information to completely define our Gaussian process.\n",
    "\n",
    "I will now define some observed data.  The data has been collected at time $t_1$ and has been observed to be $y_1$ with very little (we will ignore it) uncertainty.  Below I make an array (actually a Python list) of data:"
   ]
  },
  {
   "cell_type": "code",
   "execution_count": 65,
   "metadata": {},
   "outputs": [],
   "source": [
    "t_1= [1.0]\n",
    "y_1 = [0.1]"
   ]
  },
  {
   "cell_type": "markdown",
   "metadata": {},
   "source": [
    "## The Gaussian Process\n",
    "\n",
    "If we start with the 'classic' GP probability equation:\n",
    "\n",
    "$p({\\bf y_1, y_2}) = \\mathcal{N}\\left( \\begin{bmatrix} {\\bf a} \\\\ {\\bf c} \\end{bmatrix},  \\begin{bmatrix} A & B \\\\ B^{T} & C \\end{bmatrix} \\right)$\n",
    "\n",
    "and I'll remind you of what $A, B, C$ really mean."
   ]
  },
  {
   "cell_type": "markdown",
   "metadata": {},
   "source": [
    "We have some observations $y_1$ taken at $t_1$ and there are some predictions we want to make of $y_2$ and times $t_2$.\n",
    "\n",
    "$A$ is the covariance matrix that describes the covariance of the data.  That is the covariance of the points in $t_1$ with the other points in $t_1$, where $t_1$ has length $n$.\n",
    "\n",
    "$A = \\begin{bmatrix} {\\rm var}(y_{1,0}) & {\\rm cov}(y_{1,0}, y_{1,1}) & ... & {\\rm cov}(y_{1,0}, y_{1,n}) \\\\ \n",
    "                     {\\rm cov}(y_{1,1}, y_{1,0}) & {\\rm var}(y_{1,1}) & ... & {\\rm cov}(y_{1,1}, y_{1,n}) \\\\\n",
    "                     ... & ... & ... & ... \\\\\n",
    "                     {\\rm cov}(y_{1,n}, y_{1,0}) & ... & ... & {\\rm var}(y_{1,n}) \\end{bmatrix}$\n",
    "                     \n",
    "$C$ is the covariance matrix that describes the covariance of the prediction.  That is the covariance of the points in $t_2$ with the other points in $t_2$, where $t_2$ has length $m$.\n",
    "\n",
    "$C = \\begin{bmatrix} {\\rm var}(y_{2,0}) & {\\rm cov}(y_{2,0}, y_{2,1}) & ... & {\\rm cov}(y_{2,0}, y_{2,m}) \\\\ \n",
    "                     {\\rm cov}(y_{2,1}, y_{2,0}) & {\\rm var}(y_{2,1}) & ... & {\\rm cov}(y_{2,1}, y_{2,m}) \\\\\n",
    "                     ... & ... & ... & ... \\\\\n",
    "                     {\\rm cov}(y_{2,m}, y_{2,0}) & ... & ... & {\\rm var}(y_{2,m}) \\end{bmatrix}$"
   ]
  },
  {
   "cell_type": "markdown",
   "metadata": {},
   "source": [
    "$B$ is the covariance matrix that describes the covariance of the prediction and the data.  That is the covariance of the points in $t_1$ with the points in $t_2$.\n",
    "\n",
    "$B = \\begin{bmatrix} {\\rm cov}(y_{1,0}, y_{2,0}) & {\\rm cov}(y_{1,0}, y_{2,1}) & ... & {\\rm cov}(y_{1,0}, y_{2,n}) \\\\ \n",
    "                     {\\rm cov}(y_{1,1}, y_{2,0}) & {\\rm cov}(y_{1,1}, , y_{2,1}) & ... & {\\rm cov}(y_{1,1}, y_{2,n}) \\\\\n",
    "                     ... & ... & ... & ... \\\\\n",
    "                     {\\rm cov}(y_{1,m}, y_{2,0}) & ... & ... & {\\rm cov}(y_{1,m}, y_{2,n}) \\end{bmatrix}$"
   ]
  },
  {
   "cell_type": "markdown",
   "metadata": {},
   "source": [
    "Using the python function we have writen, we can easily calculate $A, B, C$.  We denote the hyperparameters passed to the kernel function as $\\theta$.\n",
    "\n",
    "$A = K(t_1, t_1, \\theta)$\n",
    "\n",
    "$C = K(t_2, t_2, \\theta)$\n",
    "\n",
    "$B = K(t_1, t_2, \\theta)$"
   ]
  },
  {
   "cell_type": "markdown",
   "metadata": {},
   "source": [
    "## The likelihood function\n",
    "\n",
    "$p({\\bf y_1, y_2}) = \\mathcal{N}\\left( \\begin{bmatrix} {\\bf a} \\\\ {\\bf c} \\end{bmatrix},  \\begin{bmatrix} A & B \\\\ B^{T} & C \\end{bmatrix} \\right)$\n",
    "\n",
    "or \n",
    "\n",
    "$\\begin{bmatrix} {\\bf y_1} \\\\ {\\bf y_2} \\end{bmatrix} \\sim \\mathcal{N}\\left( \\begin{bmatrix} {\\bf a} \\\\ {\\bf c} \\end{bmatrix},  \\begin{bmatrix} A & B \\\\ B^{T} & C \\end{bmatrix} \\right)$\n",
    "\n",
    "$p({\\bf y_1}) = \\int p({\\bf y_2}, {\\bf y_1}) \\,  {\\rm d}{\\bf y_2}$\n",
    "\n",
    "so \n",
    "\n",
    "$p({\\bf y_1}) = \\mathcal{N}({\\bf a}, A)$.\n",
    "\n",
    "Which is \n",
    "\n",
    "$p({\\bf y_1}) = \\mathcal{N}({\\bf 0}, A)$.\n",
    "\n",
    "$p({\\bf y_1}) = \\operatorname{det}(2\\pi A)^{-\\frac{1}{2}} \\, \\exp \\left( { -\\frac{1}{2}\\mathbf{y_1} A^{-1}\\mathbf{y_1} } \\right)$\n",
    "\n",
    "$\\log p({\\bf y_1}) = -\\frac{1}{2} {\\bf y_1}^{T} A^{-1} {\\bf y_1} - \\frac{1}{2} \\log|A| - \\frac{n}{2} \\log 2\\pi$"
   ]
  },
  {
   "cell_type": "code",
   "execution_count": 66,
   "metadata": {},
   "outputs": [],
   "source": [
    "def like(y1, A):\n",
    "    return (2.0 * np.pi * np.linalg.det(A))**-0.5 * np.exp(-0.5 * np.dot(y1, A).dot(y1))"
   ]
  },
  {
   "cell_type": "markdown",
   "metadata": {},
   "source": [
    "## Making predictions\n",
    "\n",
    "$p({\\bf y_2} | {\\bf y_1}) = \\frac{p({\\bf y_1, y_2})}{p({\\bf y_1})}$\n",
    "\n",
    "$p({\\bf y_1, y_2}) = \\mathcal{N}\\left( \\begin{bmatrix} {\\bf a} \\\\ {\\bf c} \\end{bmatrix},  \\begin{bmatrix} A & B \\\\ B^{T} & C \\end{bmatrix} \\right)$\n",
    "\n",
    "$p({\\bf y_2} | {\\bf y_1}) = \\mathcal{N}({\\bf c} + BA^{-1} ({\\bf y_1} - {\\bf a}), C - BA^{-1}B^{T})$\n",
    "\n",
    "$p({\\bf y_2} | {\\bf y_1}) = \\mathcal{N}(BA^{-1} ({\\bf y_1}), C - BA^{-1}B^{T})$"
   ]
  },
  {
   "cell_type": "code",
   "execution_count": 67,
   "metadata": {},
   "outputs": [],
   "source": [
    "# Hidden\n",
    "def predict(t_2, t_1, kernel, p, y_1):\n",
    "    B = kernel(t_1, t_2, p)\n",
    "    C = kernel(t_2, t_2, p)\n",
    "    A = kernel(t_1, t_1, p)\n",
    "    Ainv = np.linalg.inv(A)\n",
    "    y_pred = np.dot(B, Ainv).dot(y_1)\n",
    "    sigma_new = C - np.dot(B, Ainv).dot(B.T)\n",
    "    return y_pred, sigma_new"
   ]
  },
  {
   "cell_type": "code",
   "execution_count": 68,
   "metadata": {},
   "outputs": [],
   "source": [
    "t_2 = np.linspace(0, 2, 1000)\n",
    "theta = [1.0, 0.1]\n",
    "predictions = [predict(i, t_1, kernel, theta, y_1) for i in t_2]"
   ]
  },
  {
   "cell_type": "code",
   "execution_count": 69,
   "metadata": {},
   "outputs": [
    {
     "data": {
      "text/plain": [
       "[<matplotlib.lines.Line2D at 0x7f852076eeb8>]"
      ]
     },
     "execution_count": 69,
     "metadata": {},
     "output_type": "execute_result"
    },
    {
     "data": {
      "image/png": "[encoded data removed]",
      "text/plain": [
       "<Figure size 432x288 with 1 Axes>"
      ]
     },
     "metadata": {},
     "output_type": "display_data"
    }
   ],
   "source": [
    "y_pred, sigmas = np.transpose(predictions)\n",
    "plt.errorbar(t_2, y_pred, yerr=sigmas, capsize=0)\n",
    "plt.plot(t_1, y_1, 'ro')"
   ]
  },
  {
   "cell_type": "code",
   "execution_count": 70,
   "metadata": {},
   "outputs": [],
   "source": [
    "t_1.append(1.3)\n",
    "y_1.append(0.3)\n",
    "\n",
    "predictions = [predict(i, t_1, kernel, theta, y_1) for i in t_2]"
   ]
  },
  {
   "cell_type": "code",
   "execution_count": 71,
   "metadata": {},
   "outputs": [
    {
     "data": {
      "text/plain": [
       "[<matplotlib.lines.Line2D at 0x7f852051f240>]"
      ]
     },
     "execution_count": 71,
     "metadata": {},
     "output_type": "execute_result"
    },
    {
     "data": {
      "image/png": "[encoded data removed]",
      "text/plain": [
       "<Figure size 432x288 with 1 Axes>"
      ]
     },
     "metadata": {},
     "output_type": "display_data"
    }
   ],
   "source": [
    "y_pred, sigmas = np.transpose(predictions)\n",
    "plt.errorbar(t_2, y_pred, yerr=sigmas, capsize=0)\n",
    "plt.plot(t_1, y_1, 'ro')"
   ]
  },
  {
   "cell_type": "code",
   "execution_count": 84,
   "metadata": {},
   "outputs": [],
   "source": [
    "t_1 = [0.1, 0.4, 1.7, 2.3, 2.9, 3.0]\n",
    "y_1 = [0.3, -1, -0.3, 4.0, 2.1, -1.0]\n",
    "t_2 = np.linspace(0, 4, 1000)\n",
    "predictions = [predict(i, t_1, kernel, theta, y_1) for i in t_2]"
   ]
  },
  {
   "cell_type": "code",
   "execution_count": 85,
   "metadata": {},
   "outputs": [
    {
     "data": {
      "text/plain": [
       "[<matplotlib.lines.Line2D at 0x7f851ff74940>]"
      ]
     },
     "execution_count": 85,
     "metadata": {},
     "output_type": "execute_result"
    },
    {
     "data": {
      "image/png": "[encoded data removed]",
      "text/plain": [
       "<Figure size 432x288 with 1 Axes>"
      ]
     },
     "metadata": {},
     "output_type": "display_data"
    }
   ],
   "source": [
    "y_pred, sigmas = np.transpose(predictions)\n",
    "plt.errorbar(t_2, y_pred, yerr=sigmas, capsize=0)\n",
    "plt.plot(t_1, y_1, 'ro')"
   ]
  },
  {
   "cell_type": "code",
   "execution_count": 97,
   "metadata": {},
   "outputs": [
    {
     "name": "stderr",
     "output_type": "stream",
     "text": [
      "/home/davies/.local/lib/python3.6/site-packages/ipykernel_launcher.py:2: RuntimeWarning: divide by zero encountered in double_scalars\n",
      "  \n"
     ]
    },
    {
     "data": {
      "image/png": "[encoded data removed]",
      "text/plain": [
       "<Figure size 432x288 with 2 Axes>"
      ]
     },
     "metadata": {},
     "output_type": "display_data"
    }
   ],
   "source": [
    "nps = 1000\n",
    "ls = np.linspace(0.01,1,nps)\n",
    "sigmas = np.linspace(0,5.0,nps)\n",
    "L = np.zeros([nps, nps])\n",
    "for idx, l in enumerate(ls):\n",
    "    for jdx, sigma in enumerate(sigmas):\n",
    "        A = kernel(t_1, t_1, [sigma, l])\n",
    "        L[idx, jdx] = like(y_1, A)\n",
    "        \n",
    "fig, ax = plt.subplots()\n",
    "SIGMAS, LS = np.meshgrid(sigmas, ls)\n",
    "CS = ax.contour(SIGMAS, LS, -1.0 * np.log(L))\n",
    "cbar = fig.colorbar(CS)"
   ]
  },
  {
   "cell_type": "code",
   "execution_count": null,
   "metadata": {},
   "outputs": [],
   "source": []
  }
 ],
 "metadata": {
  "kernelspec": {
   "display_name": "Python 3",
   "language": "python",
   "name": "python3"
  },
  "language_info": {
   "codemirror_mode": {
    "name": "ipython",
    "version": 3
   },
   "file_extension": ".py",
   "mimetype": "text/x-python",
   "name": "python",
   "nbconvert_exporter": "python",
   "pygments_lexer": "ipython3",
   "version": "3.6.6"
  }
 },
 "nbformat": 4,
 "nbformat_minor": 2
}
